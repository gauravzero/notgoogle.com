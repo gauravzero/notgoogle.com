{
 "cells": [
  {
   "attachments": {
    "image.png": {
     "image/png": "[encoded data removed]"
    }
   },
   "cell_type": "markdown",
   "metadata": {},
   "source": [
    "# TF - IDF Scores\n",
    " **Tf-Idf** or **Term frequency - Inverse document frequency** scores evaluates how relevant a word is to a document in a collection of documents\n",
    " \n",
    " ![image.png](attachment:image.png)\n",
    " \n",
    "* **Term Frequecy** = how many times a word appears in a Document \n",
    "* **Inverse Document Frequency** = We obtain this by dividing the number of documents that contain a word by the total number of documents and calculating the logarithm. This metric approaches 0 for words commonly appearing in documents, and 1 for words rarely appearing in documents.\n"
   ]
  },
  {
   "cell_type": "markdown",
   "metadata": {},
   "source": [
    "### Importing necessary libraries"
   ]
  },
  {
   "cell_type": "code",
   "execution_count": 63,
   "metadata": {},
   "outputs": [],
   "source": [
    "import math"
   ]
  },
  {
   "cell_type": "markdown",
   "metadata": {},
   "source": [
    "### Function to compute Term Frequency"
   ]
  },
  {
   "cell_type": "code",
   "execution_count": 64,
   "metadata": {},
   "outputs": [],
   "source": [
    "def computeTF(wordDict):\n",
    "        tfDict = {}\n",
    "        wordcount=0\n",
    "        for key,val in wordDict.items():\n",
    "        \twordcount+=val\n",
    "        for key,val in wordDict.items():\n",
    "                tfDict[key] = val/float(wordcount)\n",
    "        return tfDict"
   ]
  },
  {
   "cell_type": "markdown",
   "metadata": {},
   "source": [
    "### Function to compute Inverse Document Frequency"
   ]
  },
  {
   "cell_type": "code",
   "execution_count": 65,
   "metadata": {},
   "outputs": [],
   "source": [
    "def computeIDF(docList):\n",
    "    idfDict = {}\n",
    "    N = len(docList)\n",
    "    idfDict = dict.fromkeys(docList[0].keys(), 0)\n",
    "    for doc in docList:\n",
    "            for word, val in doc.items():\n",
    "                if val>0:\n",
    "                    idfDict[word] += 1\n",
    "    for word, val in idfDict.items():\n",
    "        idfDict[word] = math.log10(N / float(val))\n",
    "    return idfDict"
   ]
  },
  {
   "cell_type": "markdown",
   "metadata": {},
   "source": [
    "### Function to compute  Tf-Idf Matrix"
   ]
  },
  {
   "cell_type": "code",
   "execution_count": 66,
   "metadata": {},
   "outputs": [],
   "source": [
    "def computeTFIDF(tfs, idfs):\n",
    "    tfidf = {}\n",
    "    for word,val in tfs.items():\n",
    "        tfidf[word] = val*idfs[word]\n",
    "    return tfidf"
   ]
  },
  {
   "cell_type": "markdown",
   "metadata": {},
   "source": [
    "### Sample Data"
   ]
  },
  {
   "cell_type": "code",
   "execution_count": 67,
   "metadata": {},
   "outputs": [],
   "source": [
    "s1_text=\"Information Retrieval is an easy subject that is fun to learn about\"\n",
    "s2_text=\"Thinking about Information Retrieval\"\n",
    "s1_dict={}\n",
    "s2_dict={}\n",
    "distinct=[] #(distinct words in corpus)"
   ]
  },
  {
   "cell_type": "markdown",
   "metadata": {},
   "source": [
    "### Preprocessing"
   ]
  },
  {
   "cell_type": "code",
   "execution_count": 68,
   "metadata": {},
   "outputs": [
    {
     "name": "stdout",
     "output_type": "stream",
     "text": [
      "Dictionary for DOC1\n",
      "{'Information': 1, 'Retrieval': 1, 'is': 2, 'a': 1, 'easy': 1, 'subject': 1, 'that': 1, 'fun': 1, 'to': 1, 'learn': 1, 'about': 1, 'Thinking': 0}\n",
      "Dictionary for DOC2\n",
      "{'Information': 1, 'Retrieval': 1, 'is': 0, 'a': 0, 'easy': 0, 'subject': 0, 'that': 0, 'fun': 0, 'to': 0, 'learn': 0, 'about': 1, 'Thinking': 1}\n",
      "TF for DOC1\n",
      "{'Information': 0.08333333333333333, 'Retrieval': 0.08333333333333333, 'is': 0.16666666666666666, 'a': 0.08333333333333333, 'easy': 0.08333333333333333, 'subject': 0.08333333333333333, 'that': 0.08333333333333333, 'fun': 0.08333333333333333, 'to': 0.08333333333333333, 'learn': 0.08333333333333333, 'about': 0.08333333333333333, 'Thinking': 0.0}\n",
      "TF for DOC2\n",
      "{'Information': 0.25, 'Retrieval': 0.25, 'is': 0.0, 'a': 0.0, 'easy': 0.0, 'subject': 0.0, 'that': 0.0, 'fun': 0.0, 'to': 0.0, 'learn': 0.0, 'about': 0.25, 'Thinking': 0.25}\n",
      "IDF in General\n",
      "{'Information': 0.0, 'Retrieval': 0.0, 'is': 0.3010299956639812, 'a': 0.3010299956639812, 'easy': 0.3010299956639812, 'subject': 0.3010299956639812, 'that': 0.3010299956639812, 'fun': 0.3010299956639812, 'to': 0.3010299956639812, 'learn': 0.3010299956639812, 'about': 0.0, 'Thinking': 0.3010299956639812}\n"
     ]
    }
   ],
   "source": [
    "#Splitting Sentences to Words\n",
    "s1=s1_text.split(\" \")\n",
    "s2=s2_text.split(\" \")\n",
    "\n",
    "#Build Term Frequency Vectors\n",
    "for i in s1:\n",
    "    if(i not in distinct):\n",
    "        s1_dict[i]=0\n",
    "        s2_dict[i]=0\n",
    "        distinct.append(i)\n",
    "    s1_dict[i]+=1\n",
    "for i in s2:\n",
    "    if(i not in distinct):\n",
    "        s1_dict[i]=0\n",
    "        s2_dict[i]=0\n",
    "        distinct.append(i)\n",
    "    s2_dict[i]+=1\n",
    "print(\"Dictionary for DOC1\")\n",
    "print(s1_dict)\n",
    "print(\"Dictionary for DOC2\")\n",
    "print(s2_dict)\n",
    "print(\"TF for DOC1\")\n",
    "print(computeTF(s1_dict))\n",
    "print(\"TF for DOC2\")\n",
    "print(computeTF(s2_dict))\n",
    "\n",
    "#Build Inverse Document Frequency Vector\n",
    "doc_list=[s1_dict,s2_dict]\n",
    "print(\"IDF in General\")\n",
    "print(computeIDF(doc_list))"
   ]
  },
  {
   "cell_type": "markdown",
   "metadata": {},
   "source": [
    "### Build Tf-Idf matrix"
   ]
  },
  {
   "cell_type": "code",
   "execution_count": 69,
   "metadata": {},
   "outputs": [
    {
     "name": "stdout",
     "output_type": "stream",
     "text": [
      "[0.0, 0.0]\n",
      "[0.0, 0.0]\n",
      "[0.050171665943996864, 0.0]\n",
      "[0.025085832971998432, 0.0]\n",
      "[0.025085832971998432, 0.0]\n",
      "[0.025085832971998432, 0.0]\n",
      "[0.025085832971998432, 0.0]\n",
      "[0.025085832971998432, 0.0]\n",
      "[0.025085832971998432, 0.0]\n",
      "[0.025085832971998432, 0.0]\n",
      "[0.0, 0.0]\n",
      "[0.0, 0.0752574989159953]\n"
     ]
    }
   ],
   "source": [
    "tf_idf_vector=[]\n",
    "for i in range(len(distinct)):\n",
    "    temp=[0,0]\n",
    "    tf_idf_vector.append(temp)\n",
    "j=0\n",
    "for doc in doc_list:\n",
    "    temp_dict=computeTFIDF(computeTF(doc),computeIDF(doc_list))\n",
    "    for i in range(len(distinct)):\n",
    "        tf_idf_vector[i][j]=temp_dict[distinct[i]]\n",
    "    j+=1\n",
    "for i in tf_idf_vector:\n",
    "    print(i)"
   ]
  }
 ],
 "metadata": {
  "kernelspec": {
   "display_name": "Python 3",
   "language": "python",
   "name": "python3"
  },
  "language_info": {
   "codemirror_mode": {
    "name": "ipython",
    "version": 3
   },
   "file_extension": ".py",
   "mimetype": "text/x-python",
   "name": "python",
   "nbconvert_exporter": "python",
   "pygments_lexer": "ipython3",
   "version": "3.8.3"
  }
 },
 "nbformat": 4,
 "nbformat_minor": 4
}
